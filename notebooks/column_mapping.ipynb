{
 "cells": [
  {
   "cell_type": "code",
   "execution_count": 1,
   "id": "18437e4f",
   "metadata": {},
   "outputs": [],
   "source": [
    "import pandas as pd\n",
    "import os"
   ]
  },
  {
   "cell_type": "code",
   "execution_count": 2,
   "id": "f707503d",
   "metadata": {},
   "outputs": [
    {
     "name": "stdout",
     "output_type": "stream",
     "text": [
      "/home/attilio/repositories/capes_etl/notebooks\n"
     ]
    }
   ],
   "source": [
    "print(os.getcwd())"
   ]
  },
  {
   "cell_type": "code",
   "execution_count": 8,
   "id": "1d1585b1",
   "metadata": {},
   "outputs": [
    {
     "name": "stdout",
     "output_type": "stream",
     "text": [
      "<class 'pandas.core.frame.DataFrame'>\n",
      "RangeIndex: 200 entries, 0 to 199\n",
      "Data columns (total 59 columns):\n",
      " #   Column                       Non-Null Count  Dtype  \n",
      "---  ------                       --------------  -----  \n",
      " 0   AN_BASE                      200 non-null    int64  \n",
      " 1   CD_PROGRAMA                  200 non-null    object \n",
      " 2   NM_PROGRAMA                  200 non-null    object \n",
      " 3   CD_ENTIDADE_CAPES            200 non-null    int64  \n",
      " 4   SG_ENTIDADE_ENSINO           200 non-null    object \n",
      " 5   NM_ENTIDADE_ENSINO           200 non-null    object \n",
      " 6   ID_ADD_PRODUCAO_INTELECTUAL  200 non-null    int64  \n",
      " 7   ID_PRODUCAO_INTELECTUAL      200 non-null    int64  \n",
      " 8   NM_PRODUCAO                  200 non-null    object \n",
      " 9   ID_SUBTIPO_PRODUCAO          200 non-null    int64  \n",
      " 10  NM_SUBTIPO_PRODUCAO          200 non-null    object \n",
      " 11  ID_AREA_CONCENTRACAO         179 non-null    float64\n",
      " 12  NM_AREA_CONCENTRACAO         200 non-null    object \n",
      " 13  ID_LINHA_PESQUISA            179 non-null    float64\n",
      " 14  NM_LINHA_PESQUISA            179 non-null    object \n",
      " 15  ID_PROJETO                   127 non-null    float64\n",
      " 16  NM_PROJETO                   127 non-null    object \n",
      " 17  DH_INICIO_AREA_CONC          179 non-null    object \n",
      " 18  DH_FIM_AREA_CONC             0 non-null      float64\n",
      " 19  DH_INICIO_LINHA              179 non-null    object \n",
      " 20  DH_FIM_LINHA                 0 non-null      float64\n",
      " 21  DT_TITULACAO                 200 non-null    object \n",
      " 22  DS_PALAVRA_CHAVE             200 non-null    object \n",
      " 23  DS_ABSTRACT                  200 non-null    object \n",
      " 24  DS_KEYWORD                   200 non-null    object \n",
      " 25  IN_TRABALHO_MESMA_AREA       200 non-null    int64  \n",
      " 26  NM_TP_VINCULO                200 non-null    object \n",
      " 27  IN_ORIENT_PARTICIPOU_BANCA   200 non-null    int64  \n",
      " 28  DS_BIBLIOTECA_DEPOSITARIA    200 non-null    object \n",
      " 29  ID_TP_EXPECTATIVA_ATUACAO    200 non-null    int64  \n",
      " 30  NM_EXPECTATIVA_ATUACAO       200 non-null    object \n",
      " 31  ID_PESSOA_DISCENTE           200 non-null    int64  \n",
      " 32  NM_DISCENTE                  200 non-null    object \n",
      " 33  DT_MATRICULA                 200 non-null    object \n",
      " 34  ID_GRAU_ACADEMICO            200 non-null    int64  \n",
      " 35  NM_GRAU_ACADEMICO            200 non-null    object \n",
      " 36  NM_ORIENTADOR                200 non-null    object \n",
      " 37  DS_CATEGORIA_ORIENTADOR      200 non-null    object \n",
      " 38  NM_CATEGORIA_DOCENTE         200 non-null    object \n",
      " 39  NM_REGIAO                    200 non-null    object \n",
      " 40  SG_UF_IES                    200 non-null    object \n",
      " 41  NM_UF_IES                    200 non-null    object \n",
      " 42  CD_GRANDE_AREA_CONHECIMENTO  200 non-null    int64  \n",
      " 43  NM_GRANDE_AREA_CONHECIMENTO  200 non-null    object \n",
      " 44  CD_AREA_CONHECIMENTO         200 non-null    int64  \n",
      " 45  NM_AREA_CONHECIMENTO         200 non-null    object \n",
      " 46  CD_SUBAREA_CONHECIMENTO      24 non-null     float64\n",
      " 47  NM_SUBAREA_CONHECIMENTO      200 non-null    object \n",
      " 48  CD_ESPECIALIDADE             7 non-null      float64\n",
      " 49  NM_ESPECIALIDADE             200 non-null    object \n",
      " 50  NM_AREA_AVALIACAO            200 non-null    object \n",
      " 51  NR_VOLUME                    159 non-null    float64\n",
      " 52  NR_PAGINAS                   200 non-null    int64  \n",
      " 53  NM_IDIOMA                    200 non-null    object \n",
      " 54  DS_RESUMO                    200 non-null    object \n",
      " 55  DS_URL_TEXTO_COMPLETO        200 non-null    object \n",
      " 56  ID_PESSOA_ORIENTADOR         200 non-null    int64  \n",
      " 57  IN_TCC_COM_VINCULO_PRODUCAO  2 non-null      object \n",
      " 58  ID_ADD_PRODUCAO_VINCULO_CT   2 non-null      object \n",
      "dtypes: float64(8), int64(14), object(37)\n",
      "memory usage: 92.3+ KB\n"
     ]
    },
    {
     "data": {
      "text/plain": [
       "None"
      ]
     },
     "metadata": {},
     "output_type": "display_data"
    }
   ],
   "source": [
    "ds_sample_1 = pd.read_csv(\n",
    "    '../data/raw/br-capes-btd-2017-2024-08-19.csv',\n",
    "    sep=';',\n",
    "    nrows=200,\n",
    "    encoding='latin1'\n",
    ")\n",
    "\n",
    "display(ds_sample_1.info())"
   ]
  },
  {
   "cell_type": "code",
   "execution_count": 7,
   "id": "78bf7379",
   "metadata": {},
   "outputs": [
    {
     "name": "stdout",
     "output_type": "stream",
     "text": [
      "<class 'pandas.core.frame.DataFrame'>\n",
      "RangeIndex: 200 entries, 0 to 199\n",
      "Data columns (total 41 columns):\n",
      " #   Column                   Non-Null Count  Dtype  \n",
      "---  ------                   --------------  -----  \n",
      " 0   AnoBase                  200 non-null    int64  \n",
      " 1   CodigoPrograma           200 non-null    object \n",
      " 2   Regiao                   200 non-null    object \n",
      " 3   Uf                       200 non-null    object \n",
      " 4   SiglaIes                 200 non-null    object \n",
      " 5   NomeIes                  200 non-null    object \n",
      " 6   NomePrograma             200 non-null    object \n",
      " 7   GrandeAreaCodigo         200 non-null    int64  \n",
      " 8   GrandeAreaDescricao      200 non-null    object \n",
      " 9   AreaConhecimentoCodigo   200 non-null    int64  \n",
      " 10  AreaConhecimento         200 non-null    object \n",
      " 11  AreaAvaliacao            200 non-null    object \n",
      " 12  DocumentoDiscente        200 non-null    object \n",
      " 13  Autor                    200 non-null    object \n",
      " 14  TituloTese               200 non-null    object \n",
      " 15  Nivel                    200 non-null    object \n",
      " 16  DataDefesa               200 non-null    object \n",
      " 17  PalavrasChave            200 non-null    object \n",
      " 18  Volume                   200 non-null    int64  \n",
      " 19  NumeroPaginas            200 non-null    int64  \n",
      " 20  BibliotecaDepositaria    200 non-null    object \n",
      " 21  Idioma                   200 non-null    object \n",
      " 22  ResumoTese               200 non-null    object \n",
      " 23  LinhaPesquisa            191 non-null    object \n",
      " 24  URLTextoCompleto         0 non-null      float64\n",
      " 25  DocumentoOrientador_1    200 non-null    object \n",
      " 26  Orientador_1             200 non-null    object \n",
      " 27  DocumentoOrientador_2    0 non-null      float64\n",
      " 28  Orientador_2             0 non-null      float64\n",
      " 29  DocumentoOrientador_3    0 non-null      float64\n",
      " 30  Orientador_3             0 non-null      float64\n",
      " 31  DocumentoOrientador_4    0 non-null      float64\n",
      " 32  Orientador_4             0 non-null      float64\n",
      " 33  DocumentoCoOrientador_1  30 non-null     object \n",
      " 34  CoOrientador_1           30 non-null     object \n",
      " 35  DocumentoCoOrientador_2  0 non-null      float64\n",
      " 36  CoOrientador_2           0 non-null      float64\n",
      " 37  DocumentoCoOrientador_3  0 non-null      float64\n",
      " 38  CoOrientador_3           0 non-null      float64\n",
      " 39  DocumentoCoOrientador_4  0 non-null      float64\n",
      " 40  CoOrientador_4           0 non-null      float64\n",
      "dtypes: float64(13), int64(5), object(23)\n",
      "memory usage: 64.2+ KB\n"
     ]
    },
    {
     "data": {
      "text/plain": [
       "None"
      ]
     },
     "metadata": {},
     "output_type": "display_data"
    }
   ],
   "source": [
    "ds_sample_2 = pd.read_csv(\n",
    "    '../data/raw/CAPES-BTD-2012-2019-11-01.csv',\n",
    "    sep=';',\n",
    "    nrows=200,\n",
    "    encoding='latin1'\n",
    ")\n",
    "\n",
    "display(ds_sample_2.info())"
   ]
  },
  {
   "cell_type": "code",
   "execution_count": 6,
   "id": "e8afea8c",
   "metadata": {},
   "outputs": [],
   "source": [
    "ds_merged = pd.concat(\n",
    "    [ds_sample_1, ds_sample_2],\n",
    "    axis=1\n",
    ")"
   ]
  },
  {
   "cell_type": "code",
   "execution_count": 34,
   "id": "20949af6",
   "metadata": {},
   "outputs": [
    {
     "data": {
      "text/plain": [
       "array(['UNIVERSIDADE FEDERAL DE RONDÔNIA', 'UNIVERSIDADE FEDERAL DO ACRE',\n",
       "       'Universidade Federal do Amazonas',\n",
       "       'INSTITUTO NACIONAL DE PESQUISAS DA AMAZÔNIA'], dtype=object)"
      ]
     },
     "execution_count": 34,
     "metadata": {},
     "output_type": "execute_result"
    }
   ],
   "source": [
    "column = 'NomeIes'\n",
    "ds_merged.loc[~ds_merged[column].isna()][column].unique()"
   ]
  },
  {
   "cell_type": "code",
   "execution_count": 35,
   "id": "cae62756",
   "metadata": {},
   "outputs": [
    {
     "data": {
      "text/plain": [
       "array(['NÃO SE APLICA', 'NEUROFISIOLOGIA'], dtype=object)"
      ]
     },
     "execution_count": 35,
     "metadata": {},
     "output_type": "execute_result"
    }
   ],
   "source": [
    "column = 'NM_ESPECIALIDADE'\n",
    "ds_merged.loc[~ds_merged[column].isna()][column].unique()"
   ]
  },
  {
   "cell_type": "code",
   "execution_count": 122,
   "id": "0358ddc0",
   "metadata": {},
   "outputs": [
    {
     "data": {
      "text/plain": [
       "AN_BASE                                                                     2017\n",
       "CD_AREA_CONHECIMENTO                                                    10600000\n",
       "CD_ENTIDADE_CAPES                                                       33002010\n",
       "CD_ESPECIALIDADE                                                             NaN\n",
       "CD_GRANDE_AREA_CONHECIMENTO                                             10000003\n",
       "CD_PROGRAMA                                                        33002010225P1\n",
       "CD_SUBAREA_CONHECIMENTO                                                      NaN\n",
       "DH_FIM_AREA_CONC                                                             NaN\n",
       "DH_FIM_LINHA                                                                 NaN\n",
       "DH_INICIO_AREA_CONC                                           01JAN2012:00:00:00\n",
       "DH_INICIO_LINHA                                               01JAN2012:00:00:00\n",
       "DS_ABSTRACT                    AN ANALYTICAL METHOD BY ULTRAPERFORMANCE LIQUI...\n",
       "DS_BIBLIOTECA_DEPOSITARIA                    BIBLIOTECA DO CONJUNTO DAS QUÍMICAS\n",
       "DS_CATEGORIA_ORIENTADOR                                                  DOCENTE\n",
       "DS_KEYWORD                     ONDANSETRON;STABILITY INDICATING METHOD;ULTRA ...\n",
       "DS_PALAVRA_CHAVE               ONDANSETRONA;MÉTODO INDICATIVO DE ESTABILIDADE...\n",
       "DS_RESUMO                      UM MÉTODO ANALÍTICO BASEADO NA CROMATOGRAFIA L...\n",
       "DS_URL_TEXTO_COMPLETO          https://sucupira.capes.gov.br/sucupira/public/...\n",
       "DT_MATRICULA                                                  09AUG2013:00:00:00\n",
       "DT_TITULACAO                                                  17OCT2017:00:00:00\n",
       "ID_ADD_PRODUCAO_INTELECTUAL                                             21957169\n",
       "ID_ADD_PRODUCAO_VINCULO_CT                                                   NaN\n",
       "ID_AREA_CONCENTRACAO                                                     78795.0\n",
       "ID_GRAU_ACADEMICO                                                             30\n",
       "ID_LINHA_PESQUISA                                                        91389.0\n",
       "ID_PESSOA_DISCENTE                                                       1340479\n",
       "ID_PESSOA_ORIENTADOR                                                       10829\n",
       "ID_PRODUCAO_INTELECTUAL                                                  5440407\n",
       "ID_PROJETO                                                              168402.0\n",
       "ID_SUBTIPO_PRODUCAO                                                            2\n",
       "ID_TP_EXPECTATIVA_ATUACAO                                                      0\n",
       "IN_ORIENT_PARTICIPOU_BANCA                                                     1\n",
       "IN_TCC_COM_VINCULO_PRODUCAO                                                  NaN\n",
       "IN_TRABALHO_MESMA_AREA                                                         0\n",
       "NM_AREA_AVALIACAO                                                        QUÍMICA\n",
       "NM_AREA_CONCENTRACAO           MESTRADO PROFISSIONAL EM TECNOLOGIA EM QUÍMICA...\n",
       "NM_AREA_CONHECIMENTO                                                     QUÍMICA\n",
       "NM_CATEGORIA_DOCENTE                                                  PERMANENTE\n",
       "NM_DISCENTE                                           RAFAEL FINOCCHIARO MARANHO\n",
       "NM_ENTIDADE_ENSINO                                     UNIVERSIDADE DE SÃO PAULO\n",
       "NM_ESPECIALIDADE                                                   NÃO SE APLICA\n",
       "NM_EXPECTATIVA_ATUACAO                                             NÃO INFORMADO\n",
       "NM_GRANDE_AREA_CONHECIMENTO                           CIÊNCIAS EXATAS E DA TERRA\n",
       "NM_GRAU_ACADEMICO                                          MESTRADO PROFISSIONAL\n",
       "NM_IDIOMA                                                              PORTUGUES\n",
       "NM_LINHA_PESQUISA              ANÁLISE QUÍMICA (MÉTODOS TÉRMICOS, ESPECTROSCÓ...\n",
       "NM_ORIENTADOR                                        MARINA FRANCO MAGGI TAVARES\n",
       "NM_PRODUCAO                    DESENVOLVIMENTO DE UM MÉTODO INDICATIVO DE EST...\n",
       "NM_PROGRAMA                                   TECNOLOGIA EM QUÍMICA E BIOQUÍMICA\n",
       "NM_PROJETO                                      TECNOLOGIAS ANALÍTICAS AVANÇADAS\n",
       "NM_REGIAO                                                                SUDESTE\n",
       "NM_SUBAREA_CONHECIMENTO                                            NÃO SE APLICA\n",
       "NM_SUBTIPO_PRODUCAO                                                  DISSERTAÇÃO\n",
       "NM_TP_VINCULO                                                      NÃO INFORMADO\n",
       "NM_UF_IES                                                              SÃO PAULO\n",
       "NR_PAGINAS                                                                   162\n",
       "NR_VOLUME                                                                    1.0\n",
       "SG_ENTIDADE_ENSINO                                                           USP\n",
       "SG_UF_IES                                                                     SP\n",
       "Name: 1, dtype: object"
      ]
     },
     "execution_count": 122,
     "metadata": {},
     "output_type": "execute_result"
    }
   ],
   "source": [
    "ds_sample_1.iloc[1].sort_index()"
   ]
  },
  {
   "cell_type": "code",
   "execution_count": 127,
   "id": "8d847d52",
   "metadata": {},
   "outputs": [
    {
     "data": {
      "text/plain": [
       "0       PERMANENTE\n",
       "1       PERMANENTE\n",
       "2      COLABORADOR\n",
       "3      COLABORADOR\n",
       "4      COLABORADOR\n",
       "          ...     \n",
       "195     PERMANENTE\n",
       "196    COLABORADOR\n",
       "197     PERMANENTE\n",
       "198     PERMANENTE\n",
       "199     PERMANENTE\n",
       "Name: NM_CATEGORIA_DOCENTE, Length: 200, dtype: object"
      ]
     },
     "execution_count": 127,
     "metadata": {},
     "output_type": "execute_result"
    }
   ],
   "source": [
    "ds_sample_1['NM_CATEGORIA_DOCENTE']"
   ]
  },
  {
   "cell_type": "code",
   "execution_count": null,
   "id": "d57547da",
   "metadata": {},
   "outputs": [
    {
     "data": {
      "text/plain": [
       "AnoBase                                                                 2012\n",
       "AreaAvaliacao                                        CIÊNCIAS BIOLÓGICAS III\n",
       "AreaConhecimento                                               PARASITOLOGIA\n",
       "AreaConhecimentoCodigo                                              21300003\n",
       "Autor                                                   Denise Silva Rezende\n",
       "BibliotecaDepositaria                      Universidade Fedderal de Rondônia\n",
       "CoOrientador_1                                                           NaN\n",
       "CoOrientador_2                                                           NaN\n",
       "CoOrientador_3                                                           NaN\n",
       "CoOrientador_4                                                           NaN\n",
       "CodigoPrograma                                                 10001018002P1\n",
       "DataDefesa                                                         01MAY2012\n",
       "DocumentoCoOrientador_1                                                  NaN\n",
       "DocumentoCoOrientador_2                                                  NaN\n",
       "DocumentoCoOrientador_3                                                  NaN\n",
       "DocumentoCoOrientador_4                                                  NaN\n",
       "DocumentoDiscente                                                635*****268\n",
       "DocumentoOrientador_1                                          (246*****691)\n",
       "DocumentoOrientador_2                                                    NaN\n",
       "DocumentoOrientador_3                                                    NaN\n",
       "DocumentoOrientador_4                                                    NaN\n",
       "GrandeAreaCodigo                                                    20000006\n",
       "GrandeAreaDescricao                                      CIÊNCIAS BIOLÓGICAS\n",
       "Idioma                                                             Português\n",
       "LinhaPesquisa              Bases Genéticas da Susceptibilidade de Patolog...\n",
       "Nivel                                                               Mestrado\n",
       "NomeIes                                     UNIVERSIDADE FEDERAL DE RONDÔNIA\n",
       "NomePrograma                                           BIOLOGIA EXPERIMENTAL\n",
       "NumeroPaginas                                                             51\n",
       "Orientador_1                                  Maria Manuela da Fonseca Moura\n",
       "Orientador_2                                                             NaN\n",
       "Orientador_3                                                             NaN\n",
       "Orientador_4                                                             NaN\n",
       "PalavrasChave                                    Mycobacterium leprae, VNTRs\n",
       "Regiao                                                                 NORTE\n",
       "ResumoTese                 A hanseníase é uma doença infecto-contagiosa g...\n",
       "SiglaIes                                                                UNIR\n",
       "TituloTese                 DETERMINAÇÃO DA VARIABILIDADE GENÉTICA ENTRE C...\n",
       "URLTextoCompleto                                                         NaN\n",
       "Uf                                                                        RO\n",
       "Volume                                                                     1\n",
       "Name: 3, dtype: object"
      ]
     },
     "execution_count": 7,
     "metadata": {},
     "output_type": "execute_result"
    }
   ],
   "source": [
    "ds_sample_2.iloc[3].sort_index()"
   ]
  }
 ],
 "metadata": {
  "kernelspec": {
   "display_name": "capes-teses",
   "language": "python",
   "name": "python3"
  },
  "language_info": {
   "codemirror_mode": {
    "name": "ipython",
    "version": 3
   },
   "file_extension": ".py",
   "mimetype": "text/x-python",
   "name": "python",
   "nbconvert_exporter": "python",
   "pygments_lexer": "ipython3",
   "version": "3.13.7"
  }
 },
 "nbformat": 4,
 "nbformat_minor": 5
}
